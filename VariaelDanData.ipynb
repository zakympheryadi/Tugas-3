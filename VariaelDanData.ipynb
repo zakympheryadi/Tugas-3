{
 "cells": [
  {
   "cell_type": "code",
   "execution_count": 12,
   "id": "43a0e90e",
   "metadata": {
    "scrolled": true
   },
   "outputs": [
    {
     "name": "stdout",
     "output_type": "stream",
     "text": [
      "nama: zaky\n",
      "usia: 18\n",
      "sudah_menikah : False\n",
      "hobi: mencintaimu\n",
      "mantan: 100\n"
     ]
    }
   ],
   "source": [
    "nama = \"zaky\"\n",
    "usia = 18\n",
    "sudah_menikah = False\n",
    "hobi = \"mencintaimu\"\n",
    "mantan = 100\n",
    "\n",
    "print('nama:',nama)\n",
    "print('usia:',usia)\n",
    "print('sudah_menikah :',sudah_menikah)\n",
    "print('hobi:',hobi)\n",
    "print('mantan:',mantan)\n"
   ]
  },
  {
   "cell_type": "code",
   "execution_count": 14,
   "id": "4217e386",
   "metadata": {},
   "outputs": [
    {
     "name": "stdout",
     "output_type": "stream",
     "text": [
      "a: 1\n",
      "b: 2\n",
      "c: mantap cuy\n"
     ]
    }
   ],
   "source": [
    "a, b, c, = 1, 2, \"mantap cuy\"\n",
    "\n",
    "print('a:',a)\n",
    "print('b:',b)\n",
    "print('c:',c)\n"
   ]
  },
  {
   "cell_type": "code",
   "execution_count": 15,
   "id": "a229deb3",
   "metadata": {},
   "outputs": [
    {
     "name": "stdout",
     "output_type": "stream",
     "text": [
      "d: 10\n",
      "e: 10\n",
      "f: 10\n"
     ]
    }
   ],
   "source": [
    "d = e = f = 10\n",
    "print('d:',d)\n",
    "print('e:',e)\n",
    "print('f:',f)\n"
   ]
  },
  {
   "cell_type": "code",
   "execution_count": 18,
   "id": "518ecc03",
   "metadata": {},
   "outputs": [
    {
     "name": "stdout",
     "output_type": "stream",
     "text": [
      "<class 'str'>\n",
      "<class 'int'>\n"
     ]
    }
   ],
   "source": [
    "kota = 'sukabumi'\n",
    "luas = 20000\n",
    "\n",
    "print(type(kota))\n",
    "print(type(luas))"
   ]
  },
  {
   "cell_type": "code",
   "execution_count": 22,
   "id": "bfa31fc5",
   "metadata": {},
   "outputs": [
    {
     "name": "stdout",
     "output_type": "stream",
     "text": [
      "5 * 10.5 = 52.5\n",
      "Tipe dari variabel panjang: <class 'int'>\n",
      "Tipe dari variabel lebar <class 'float'>\n",
      "Tipe dari variabel luas <class 'float'>\n"
     ]
    }
   ],
   "source": [
    "panjang = 5\n",
    "lebar = 10.5\n",
    "luas = panjang * lebar\n",
    "\n",
    "print(panjang, '*', lebar, '=',luas)\n",
    "print(\"Tipe dari variabel panjang:\", type(panjang))\n",
    "print(\"Tipe dari variabel lebar\", type(lebar))\n",
    "print(\"Tipe dari variabel luas\", type(luas))\n"
   ]
  },
  {
   "cell_type": "code",
   "execution_count": 33,
   "id": "714a1cee",
   "metadata": {},
   "outputs": [
    {
     "name": "stdout",
     "output_type": "stream",
     "text": [
      "luas segitiga: 10 * 5 * 0.5 = 25.0\n"
     ]
    }
   ],
   "source": [
    "alas = 10\n",
    "tinggi = 5\n",
    "rumus_luas = alas*tinggi*0.5\n",
    "\n",
    "print('luas segitiga:', alas,'*',tinggi,'*',0.5,'=',rumus_luas) "
   ]
  },
  {
   "cell_type": "code",
   "execution_count": 36,
   "id": "e7577a13",
   "metadata": {},
   "outputs": [
    {
     "name": "stdout",
     "output_type": "stream",
     "text": [
      "itung umur: 2022 - 2004 = 18\n"
     ]
    }
   ],
   "source": [
    "#itung umur\n",
    "tahun_lahir = 2004\n",
    "tahun_sekarang = 2022\n",
    "itung_umur = tahun_sekarang-tahun_lahir\n",
    "\n",
    "print('itung umur:',tahun_sekarang,'-',tahun_lahir,'=',itung_umur)"
   ]
  },
  {
   "cell_type": "code",
   "execution_count": 59,
   "id": "185b99e7",
   "metadata": {},
   "outputs": [
    {
     "name": "stdout",
     "output_type": "stream",
     "text": [
      "Zaky Heryadi (18) , dari cicurug , kata mutiara : di dunia ini tidak ada yang tidak mungkin\n"
     ]
    }
   ],
   "source": [
    "#biodata\n",
    "nama_depan = \"Zaky\"\n",
    "nama_belakang = \"Heryadi\"\n",
    "nama_lengkap = nama_depan + ' ' + nama_belakang\n",
    "usia = '18'\n",
    "alamat = 'cicurug'\n",
    "kata_mutiara = \"di dunia ini tidak ada yang tidak mungkin\"\n",
    "\n",
    "print(nama_lengkap, '(' + usia +')', ',', 'dari' , alamat, ', kata mutiara :',kata_mutiara)\n"
   ]
  },
  {
   "cell_type": "code",
   "execution_count": 44,
   "id": "ef120243",
   "metadata": {},
   "outputs": [
    {
     "name": "stdout",
     "output_type": "stream",
     "text": [
      "sayasayasaya\n"
     ]
    }
   ],
   "source": [
    "print ('saya'*3)"
   ]
  },
  {
   "cell_type": "code",
   "execution_count": 47,
   "id": "bb35ff56",
   "metadata": {},
   "outputs": [
    {
     "name": "stdout",
     "output_type": "stream",
     "text": [
      "sayasaya\n"
     ]
    }
   ],
   "source": [
    "print ('saya'+'saya')"
   ]
  },
  {
   "cell_type": "code",
   "execution_count": 51,
   "id": "77dd0f53",
   "metadata": {},
   "outputs": [
    {
     "name": "stdout",
     "output_type": "stream",
     "text": [
      "saya\n",
      "saya\n",
      "saya\n"
     ]
    }
   ],
   "source": [
    "print(\"saya\\nsaya\\nsaya\")"
   ]
  },
  {
   "cell_type": "code",
   "execution_count": 54,
   "id": "4f5c2bde",
   "metadata": {},
   "outputs": [
    {
     "name": "stdout",
     "output_type": "stream",
     "text": [
      "\n",
      "saya\n",
      "saya\n",
      "saya\n"
     ]
    }
   ],
   "source": [
    "print(\"\"\"\n",
    "saya\n",
    "saya\n",
    "saya\"\"\")"
   ]
  },
  {
   "cell_type": "code",
   "execution_count": 57,
   "id": "057bc4c7",
   "metadata": {},
   "outputs": [
    {
     "name": "stdout",
     "output_type": "stream",
     "text": [
      "Apakah saya orang indonesia? True\n",
      "Apakah saya adalah robot? False\n",
      "Tipe dari saya_orang_indonesia <class 'bool'>\n",
      "Tipe dari saya_adalah_robot <class 'bool'>\n"
     ]
    }
   ],
   "source": [
    "saya_orang_indonesia = True\n",
    "saya_adalah_robot = False\n",
    "\n",
    "print('Apakah saya orang indonesia?', saya_orang_indonesia)\n",
    "print('Apakah saya adalah robot?', saya_adalah_robot)\n",
    "print('Tipe dari saya_orang_indonesia',type(saya_orang_indonesia))\n",
    "print('Tipe dari saya_adalah_robot',type(saya_adalah_robot))"
   ]
  },
  {
   "cell_type": "code",
   "execution_count": 63,
   "id": "3f3d6336",
   "metadata": {},
   "outputs": [
    {
     "name": "stdout",
     "output_type": "stream",
     "text": [
      "False\n",
      "True\n",
      "False\n"
     ]
    }
   ],
   "source": [
    "foo = 12 < 10\n",
    "print(foo)\n",
    "\n",
    "foo = 10 < 12\n",
    "print(foo)\n",
    "\n",
    "foo = \"A\" == \"a\"\n",
    "print(foo)"
   ]
  },
  {
   "cell_type": "code",
   "execution_count": null,
   "id": "d1898e2e",
   "metadata": {},
   "outputs": [],
   "source": []
  },
  {
   "cell_type": "code",
   "execution_count": null,
   "id": "07456699",
   "metadata": {},
   "outputs": [],
   "source": []
  }
 ],
 "metadata": {
  "kernelspec": {
   "display_name": "Python 3 (ipykernel)",
   "language": "python",
   "name": "python3"
  },
  "language_info": {
   "codemirror_mode": {
    "name": "ipython",
    "version": 3
   },
   "file_extension": ".py",
   "mimetype": "text/x-python",
   "name": "python",
   "nbconvert_exporter": "python",
   "pygments_lexer": "ipython3",
   "version": "3.9.12"
  }
 },
 "nbformat": 4,
 "nbformat_minor": 5
}
